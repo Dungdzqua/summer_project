{
 "cells": [
  {
   "cell_type": "code",
   "execution_count": 14,
   "metadata": {},
   "outputs": [
    {
     "name": "stdout",
     "output_type": "stream",
     "text": [
      "[['1.A', '1.B', '1.C', '1.D'], ['2.A', '2.B', '2.C', '2.D'], ['3.A', '3.B', '3.C', '3.D'], ['4.A', '4.B', '4.C', '4.D'], ['5.A', '5.B', '5.C', '5.D'], ['6.A', '6.B', '6.C', '6.D'], ['7.A', '7.B', '7.C', '7.D'], ['8.A', '8.B', '8.C', '8.D'], ['9.A', '9.B', '9.C', '9.D'], ['10.A', '10.B', '10.C', '10.D'], ['11.A', '11.B', '11.C', '11.D'], ['12.A', '12.B', '12.C', '12.D'], ['13.A', '13.B', '13.C', '13.D'], ['14.A', '14.B', '14.C', '14.D'], ['15.A', '15.B', '15.C', '15.D'], ['16.A', '16.B', '16.C', '16.D'], ['17.A', '17.B', '17.C', '17.D'], ['18.A', '18.B', '18.C', '18.D'], ['19.A', '19.B', '19.C', '19.D'], ['20.A', '20.B', '20.C', '20.D']]\n"
     ]
    }
   ],
   "source": [
    "ll=['A','B','C','D']\n",
    "l=[]\n",
    "for x in range(1,21):\n",
    "    lll=[]\n",
    "    for z in range(0,4):\n",
    "        ge=str(x)+\".\"+str(ll[z])\n",
    "        lll.append(ge)\n",
    "    l.append(lll)\n",
    "print(l)\n",
    "\n"
   ]
  },
  {
   "cell_type": "code",
   "execution_count": 11,
   "metadata": {},
   "outputs": [
    {
     "data": {
      "text/html": [
       "<div>\n",
       "<style scoped>\n",
       "    .dataframe tbody tr th:only-of-type {\n",
       "        vertical-align: middle;\n",
       "    }\n",
       "\n",
       "    .dataframe tbody tr th {\n",
       "        vertical-align: top;\n",
       "    }\n",
       "\n",
       "    .dataframe thead th {\n",
       "        text-align: right;\n",
       "    }\n",
       "</style>\n",
       "<table border=\"1\" class=\"dataframe\">\n",
       "  <thead>\n",
       "    <tr style=\"text-align: right;\">\n",
       "      <th></th>\n",
       "      <th>Q</th>\n",
       "      <th>A</th>\n",
       "      <th>B</th>\n",
       "      <th>C</th>\n",
       "      <th>D</th>\n",
       "      <th>Answer</th>\n",
       "    </tr>\n",
       "  </thead>\n",
       "  <tbody>\n",
       "    <tr>\n",
       "      <th>0</th>\n",
       "      <td>1+1=?</td>\n",
       "      <td>2</td>\n",
       "      <td>3</td>\n",
       "      <td>4</td>\n",
       "      <td>5</td>\n",
       "      <td>A</td>\n",
       "    </tr>\n",
       "    <tr>\n",
       "      <th>1</th>\n",
       "      <td>2+2=?</td>\n",
       "      <td>3</td>\n",
       "      <td>4</td>\n",
       "      <td>5</td>\n",
       "      <td>6</td>\n",
       "      <td>A</td>\n",
       "    </tr>\n",
       "    <tr>\n",
       "      <th>2</th>\n",
       "      <td>3+3=?</td>\n",
       "      <td>4</td>\n",
       "      <td>5</td>\n",
       "      <td>6</td>\n",
       "      <td>7</td>\n",
       "      <td>A</td>\n",
       "    </tr>\n",
       "    <tr>\n",
       "      <th>3</th>\n",
       "      <td>4+4=?</td>\n",
       "      <td>5</td>\n",
       "      <td>6</td>\n",
       "      <td>7</td>\n",
       "      <td>8</td>\n",
       "      <td>A</td>\n",
       "    </tr>\n",
       "    <tr>\n",
       "      <th>4</th>\n",
       "      <td>5+5=?</td>\n",
       "      <td>7</td>\n",
       "      <td>8</td>\n",
       "      <td>9</td>\n",
       "      <td>10</td>\n",
       "      <td>A</td>\n",
       "    </tr>\n",
       "    <tr>\n",
       "      <th>5</th>\n",
       "      <td>6+6=?</td>\n",
       "      <td>12</td>\n",
       "      <td>9</td>\n",
       "      <td>10</td>\n",
       "      <td>11</td>\n",
       "      <td>A</td>\n",
       "    </tr>\n",
       "    <tr>\n",
       "      <th>6</th>\n",
       "      <td>7+7=?</td>\n",
       "      <td>14</td>\n",
       "      <td>15</td>\n",
       "      <td>16</td>\n",
       "      <td>17</td>\n",
       "      <td>A</td>\n",
       "    </tr>\n",
       "    <tr>\n",
       "      <th>7</th>\n",
       "      <td>8+8=?</td>\n",
       "      <td>16</td>\n",
       "      <td>17</td>\n",
       "      <td>18</td>\n",
       "      <td>19</td>\n",
       "      <td>A</td>\n",
       "    </tr>\n",
       "    <tr>\n",
       "      <th>8</th>\n",
       "      <td>9+9=?</td>\n",
       "      <td>18</td>\n",
       "      <td>19</td>\n",
       "      <td>20</td>\n",
       "      <td>21</td>\n",
       "      <td>A</td>\n",
       "    </tr>\n",
       "    <tr>\n",
       "      <th>9</th>\n",
       "      <td>10+10=?</td>\n",
       "      <td>20</td>\n",
       "      <td>21</td>\n",
       "      <td>22</td>\n",
       "      <td>23</td>\n",
       "      <td>B</td>\n",
       "    </tr>\n",
       "  </tbody>\n",
       "</table>\n",
       "</div>"
      ],
      "text/plain": [
       "         Q   A   B   C   D Answer\n",
       "0    1+1=?   2   3   4   5      A\n",
       "1    2+2=?   3   4   5   6      A\n",
       "2    3+3=?   4   5   6   7      A\n",
       "3    4+4=?   5   6   7   8      A\n",
       "4    5+5=?   7   8   9  10      A\n",
       "5    6+6=?  12   9  10  11      A\n",
       "6    7+7=?  14  15  16  17      A\n",
       "7    8+8=?  16  17  18  19      A\n",
       "8    9+9=?  18  19  20  21      A\n",
       "9  10+10=?  20  21  22  23      B"
      ]
     },
     "execution_count": 11,
     "metadata": {},
     "output_type": "execute_result"
    }
   ],
   "source": [
    "#doc csv\n",
    "import pandas as pd\n",
    "\n",
    "mycsv=pd.read_csv('data.csv')\n",
    "df=pd.DataFrame(mycsv)\n",
    "df"
   ]
  },
  {
   "cell_type": "code",
   "execution_count": 25,
   "metadata": {},
   "outputs": [
    {
     "data": {
      "text/plain": [
       "array([['1+1=?', 2, 3, 4, 5, 'A'],\n",
       "       ['2+2=?', 3, 4, 5, 6, 'B'],\n",
       "       ['3+3=?', 4, 5, 6, 7, 'C'],\n",
       "       ['4+4=?', 5, 6, 7, 8, 'D'],\n",
       "       ['5+5=?', 7, 8, 9, 10, 'D'],\n",
       "       ['6+6=?', 12, 9, 10, 11, 'A'],\n",
       "       ['7+7=?', 14, 15, 16, 17, 'A'],\n",
       "       ['8+8=?', 16, 17, 18, 19, 'A'],\n",
       "       ['9+9=?', 18, 19, 20, 21, 'A'],\n",
       "       ['10+10=?', 20, 21, 22, 23, 'A']], dtype=object)"
      ]
     },
     "execution_count": 25,
     "metadata": {},
     "output_type": "execute_result"
    }
   ],
   "source": [
    "df.values\n"
   ]
  },
  {
   "cell_type": "code",
   "execution_count": 19,
   "metadata": {},
   "outputs": [
    {
     "name": "stdout",
     "output_type": "stream",
     "text": [
      "[['1.Cau', '1.A', '1.B', '1.C', '1.D'], ['2.Cau', '2.A', '2.B', '2.C', '2.D'], ['3.Cau', '3.A', '3.B', '3.C', '3.D'], ['4.Cau', '4.A', '4.B', '4.C', '4.D'], ['5.Cau', '5.A', '5.B', '5.C', '5.D'], ['6.Cau', '6.A', '6.B', '6.C', '6.D'], ['7.Cau', '7.A', '7.B', '7.C', '7.D'], ['8.Cau', '8.A', '8.B', '8.C', '8.D'], ['9.Cau', '9.A', '9.B', '9.C', '9.D'], ['10.Cau', '10.A', '10.B', '10.C', '10.D'], ['11.Cau', '11.A', '11.B', '11.C', '11.D'], ['12.Cau', '12.A', '12.B', '12.C', '12.D'], ['13.Cau', '13.A', '13.B', '13.C', '13.D'], ['14.Cau', '14.A', '14.B', '14.C', '14.D'], ['15.Cau', '15.A', '15.B', '15.C', '15.D'], ['16.Cau', '16.A', '16.B', '16.C', '16.D'], ['17.Cau', '17.A', '17.B', '17.C', '17.D'], ['18.Cau', '18.A', '18.B', '18.C', '18.D'], ['19.Cau', '19.A', '19.B', '19.C', '19.D'], ['20.Cau', '20.A', '20.B', '20.C', '20.D']]\n"
     ]
    }
   ],
   "source": [
    "\n",
    "ll=['Cau','A','B','C','D']\n",
    "l=[]\n",
    "for x in range(1,21):\n",
    "    lll=[]\n",
    "    for z in range(0,5):\n",
    "        ge=str(x)+\".\"+str(ll[z])\n",
    "        lll.append(ge)\n",
    "    l.append(lll)\n",
    "print(l)\n",
    "df = pd.DataFrame(l)\n",
    "df.to_csv(\"data.csv\",index=False)"
   ]
  },
  {
   "cell_type": "code",
   "execution_count": 10,
   "metadata": {},
   "outputs": [
    {
     "name": "stdout",
     "output_type": "stream",
     "text": [
      "---List---\n",
      "[['1+1=?' 2 3 4 5 'A']\n",
      " ['8+8=?' 16 17 18 19 'A']\n",
      " ['4+4=?' 5 6 7 8 'D']\n",
      " ['9+9=?' 18 19 20 21 'A']\n",
      " ['6+6=?' 12 9 10 11 'A']\n",
      " ['5+5=?' 7 8 9 10 'D']\n",
      " ['7+7=?' 14 15 16 17 'A']\n",
      " ['3+3=?' 4 5 6 7 'C']\n",
      " ['2+2=?' 3 4 5 6 'B']\n",
      " ['10+10=?' 20 21 22 23 'A']]\n",
      "---ansList---\n",
      "['A', 'A', 'D', 'A', 'A', 'D', 'A', 'C', 'B', 'A']\n"
     ]
    }
   ],
   "source": [
    "#doc csv\n",
    "import pandas as pd\n",
    "\n",
    "mycsv=pd.read_csv('data2.csv')\n",
    "df=pd.DataFrame(mycsv)\n",
    "shuffled_df = df.sample(n=len(df))\n",
    "shuffled_df = shuffled_df.reset_index(drop=True)\n",
    "csvList=shuffled_df.values\n",
    "ansList=[]\n",
    "for x in range(0,10):\n",
    "    ansList.append(csvList[x][-1])\n",
    "print('---List---')\n",
    "print(csvList)\n",
    "print('---ansList---')\n",
    "print(ansList)\n"
   ]
  }
 ],
 "metadata": {
  "kernelspec": {
   "display_name": "Python 3",
   "language": "python",
   "name": "python3"
  },
  "language_info": {
   "codemirror_mode": {
    "name": "ipython",
    "version": 3
   },
   "file_extension": ".py",
   "mimetype": "text/x-python",
   "name": "python",
   "nbconvert_exporter": "python",
   "pygments_lexer": "ipython3",
   "version": "3.10.14"
  }
 },
 "nbformat": 4,
 "nbformat_minor": 2
}
